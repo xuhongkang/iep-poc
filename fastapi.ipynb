{
 "cells": [
  {
   "cell_type": "code",
   "execution_count": null,
   "metadata": {},
   "outputs": [],
   "source": [
    "from fastapi import FastAPI, File, UploadFile\n",
    "\n",
    "app = FastAPI()\n",
    "\n",
    "@app.post(\"/uploadfile/\")\n",
    "async def upload_file(file: UploadFile):\n",
    "    with open(file.filename, \"wb\") as f:\n",
    "        f.write(file.file.read())\n",
    "    return {\"filename\": file.filename}"
   ]
  }
 ],
 "metadata": {
  "language_info": {
   "name": "python"
  }
 },
 "nbformat": 4,
 "nbformat_minor": 2
}
