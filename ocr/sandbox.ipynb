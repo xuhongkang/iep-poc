{
 "cells": [
  {
   "cell_type": "code",
   "execution_count": 1,
   "metadata": {},
   "outputs": [],
   "source": [
    "import pdf2image, os, pytesseract\n",
    "from img2table.ocr import TesseractOCR\n",
    "from img2table.document import Image\n",
    "from datetime import datetime"
   ]
  },
  {
   "cell_type": "code",
   "execution_count": 2,
   "metadata": {},
   "outputs": [],
   "source": [
    "class IEP_PDF_Reader:\n",
    "    def __init__(self, pdf_path: str=None) -> None:\n",
    "        pdf_path = pdf_path if pdf_path else input('Please Provide IEP PDF File Path: ')\n",
    "        self.pdf_name, pdf_extension = os.path.splitext(pdf_path)\n",
    "        if pdf_extension != '.pdf': raise Exception('Provided Fike Path Not PDF')\n",
    "        self.pdf_path = pdf_path\n",
    "        self.img_pages = pdf2image.convert_from_path(self.pdf_path)\n",
    "        self.total_page_num = len(self.img_pages)\n",
    "        self.dir_name = f'{self.pdf_path}_{datetime.now().strftime(\"%d/%m/%Y %H:%M:%S\")}_{self.total_page_num}pgs'\n",
    "    \n",
    "    # Reads Text At Given Page Number (Count starts at Page 1)\n",
    "    def read_page_text(self, page_num) -> str:\n",
    "        return pytesseract.image_to_string(self._get_page_img_at(page_num))\n",
    "\n",
    "    # Reads Table At Given Page Number (Count starts at Page 1)\n",
    "    def read_page_table(self, page_num) -> list:\n",
    "        return Image(self._get_page_img_at(page_num)).extract_table(ocr=TesseractOCR(n_threads=1, lang='eng'),\n",
    "                                                implicit_rows=True,\n",
    "                                                borderless_tables=False,\n",
    "                                                min_confidence=50)\n",
    "    \n",
    "    def read_all(self) -> None:\n",
    "        for page_num in range(1, self.total_page_num+1):\n",
    "            file_name = f'{self.dir_name}/p{page_num}_ocr.txt'\n",
    "            text = f'{self.read_page_text(page_num)}'\n",
    "            with open(file_name, 'w') as f:\n",
    "                f.write(text)\n",
    "    \n",
    "    # Gets Image At Given Page Number (Count starts at Page 1)\n",
    "    def _get_page_img_at(self, page_num):\n",
    "        return self.img_pages[page_num+1]\n",
    "    \n"
   ]
  },
  {
   "cell_type": "code",
   "execution_count": 3,
   "metadata": {},
   "outputs": [
    {
     "ename": "FileNotFoundError",
     "evalue": "[Errno 2] No such file or directory: 'iep.pdf_11/10/2023 12:00:09_11pgs/p1_ocr.txt'",
     "output_type": "error",
     "traceback": [
      "\u001b[0;31m---------------------------------------------------------------------------\u001b[0m",
      "\u001b[0;31mFileNotFoundError\u001b[0m                         Traceback (most recent call last)",
      "\u001b[1;32m/home/xhk/Documents/iep-backend/sandbox.ipynb Cell 3\u001b[0m line \u001b[0;36m1\n\u001b[0;32m----> <a href='vscode-notebook-cell:/home/xhk/Documents/iep-backend/sandbox.ipynb#W2sZmlsZQ%3D%3D?line=0'>1</a>\u001b[0m IEP_PDF_Reader(\u001b[39m\"\u001b[39;49m\u001b[39miep.pdf\u001b[39;49m\u001b[39m\"\u001b[39;49m)\u001b[39m.\u001b[39;49mread_all()\n",
      "\u001b[1;32m/home/xhk/Documents/iep-backend/sandbox.ipynb Cell 3\u001b[0m line \u001b[0;36m2\n\u001b[1;32m     <a href='vscode-notebook-cell:/home/xhk/Documents/iep-backend/sandbox.ipynb#W2sZmlsZQ%3D%3D?line=23'>24</a>\u001b[0m file_name \u001b[39m=\u001b[39m \u001b[39mf\u001b[39m\u001b[39m'\u001b[39m\u001b[39m{\u001b[39;00m\u001b[39mself\u001b[39m\u001b[39m.\u001b[39mdir_name\u001b[39m}\u001b[39;00m\u001b[39m/p\u001b[39m\u001b[39m{\u001b[39;00mpage_num\u001b[39m}\u001b[39;00m\u001b[39m_ocr.txt\u001b[39m\u001b[39m'\u001b[39m\n\u001b[1;32m     <a href='vscode-notebook-cell:/home/xhk/Documents/iep-backend/sandbox.ipynb#W2sZmlsZQ%3D%3D?line=24'>25</a>\u001b[0m text \u001b[39m=\u001b[39m \u001b[39mf\u001b[39m\u001b[39m'\u001b[39m\u001b[39m{\u001b[39;00m\u001b[39mself\u001b[39m\u001b[39m.\u001b[39mread_page_text(page_num)\u001b[39m}\u001b[39;00m\u001b[39m'\u001b[39m\n\u001b[0;32m---> <a href='vscode-notebook-cell:/home/xhk/Documents/iep-backend/sandbox.ipynb#W2sZmlsZQ%3D%3D?line=25'>26</a>\u001b[0m \u001b[39mwith\u001b[39;00m \u001b[39mopen\u001b[39;49m(file_name, \u001b[39m'\u001b[39;49m\u001b[39mw\u001b[39;49m\u001b[39m'\u001b[39;49m) \u001b[39mas\u001b[39;00m f:\n\u001b[1;32m     <a href='vscode-notebook-cell:/home/xhk/Documents/iep-backend/sandbox.ipynb#W2sZmlsZQ%3D%3D?line=26'>27</a>\u001b[0m     f\u001b[39m.\u001b[39mwrite(text)\n",
      "File \u001b[0;32m~/.local/lib/python3.10/site-packages/IPython/core/interactiveshell.py:286\u001b[0m, in \u001b[0;36m_modified_open\u001b[0;34m(file, *args, **kwargs)\u001b[0m\n\u001b[1;32m    279\u001b[0m \u001b[39mif\u001b[39;00m file \u001b[39min\u001b[39;00m {\u001b[39m0\u001b[39m, \u001b[39m1\u001b[39m, \u001b[39m2\u001b[39m}:\n\u001b[1;32m    280\u001b[0m     \u001b[39mraise\u001b[39;00m \u001b[39mValueError\u001b[39;00m(\n\u001b[1;32m    281\u001b[0m         \u001b[39mf\u001b[39m\u001b[39m\"\u001b[39m\u001b[39mIPython won\u001b[39m\u001b[39m'\u001b[39m\u001b[39mt let you open fd=\u001b[39m\u001b[39m{\u001b[39;00mfile\u001b[39m}\u001b[39;00m\u001b[39m by default \u001b[39m\u001b[39m\"\u001b[39m\n\u001b[1;32m    282\u001b[0m         \u001b[39m\"\u001b[39m\u001b[39mas it is likely to crash IPython. If you know what you are doing, \u001b[39m\u001b[39m\"\u001b[39m\n\u001b[1;32m    283\u001b[0m         \u001b[39m\"\u001b[39m\u001b[39myou can use builtins\u001b[39m\u001b[39m'\u001b[39m\u001b[39m open.\u001b[39m\u001b[39m\"\u001b[39m\n\u001b[1;32m    284\u001b[0m     )\n\u001b[0;32m--> 286\u001b[0m \u001b[39mreturn\u001b[39;00m io_open(file, \u001b[39m*\u001b[39;49margs, \u001b[39m*\u001b[39;49m\u001b[39m*\u001b[39;49mkwargs)\n",
      "\u001b[0;31mFileNotFoundError\u001b[0m: [Errno 2] No such file or directory: 'iep.pdf_11/10/2023 12:00:09_11pgs/p1_ocr.txt'"
     ]
    }
   ],
   "source": [
    "IEP_PDF_Reader(\"iep.pdf\").read_all()"
   ]
  }
 ],
 "metadata": {
  "kernelspec": {
   "display_name": "Python 3",
   "language": "python",
   "name": "python3"
  },
  "language_info": {
   "codemirror_mode": {
    "name": "ipython",
    "version": 3
   },
   "file_extension": ".py",
   "mimetype": "text/x-python",
   "name": "python",
   "nbconvert_exporter": "python",
   "pygments_lexer": "ipython3",
   "version": "3.10.12"
  },
  "orig_nbformat": 4
 },
 "nbformat": 4,
 "nbformat_minor": 2
}
